{
 "cells": [
  {
   "cell_type": "markdown",
   "id": "1eb1f784-bf3c-4a6e-99cd-3fe7829d6ddc",
   "metadata": {},
   "source": [
    "# Titanic Dataset\n",
    "\n",
    "### Titanic Kaggle Competition\n",
    "https://www.kaggle.com/competitions/titanic\n",
    "\n",
    "\n",
    "Begin to do cursory data analysis to examine titanic crew records:"
   ]
  },
  {
   "cell_type": "code",
   "execution_count": null,
   "id": "55ae77ba-8772-4f1d-8b10-a5f758ea6a8f",
   "metadata": {},
   "outputs": [],
   "source": [
    "import pandas as pd\n",
    "import numpy as np\n",
    "\n",
    "titanic = pd.read_csv()"
   ]
  }
 ],
 "metadata": {
  "kernelspec": {
   "display_name": "Python 3 (ipykernel)",
   "language": "python",
   "name": "python3"
  },
  "language_info": {
   "codemirror_mode": {
    "name": "ipython",
    "version": 3
   },
   "file_extension": ".py",
   "mimetype": "text/x-python",
   "name": "python",
   "nbconvert_exporter": "python",
   "pygments_lexer": "ipython3",
   "version": "3.11.4"
  }
 },
 "nbformat": 4,
 "nbformat_minor": 5
}
